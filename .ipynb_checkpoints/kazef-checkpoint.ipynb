{
 "cells": [
  {
   "cell_type": "code",
   "execution_count": null,
   "metadata": {},
   "outputs": [],
   "source": [
    "import cv2\n",
    "def kaze_match(im1_path, im2_path):\n",
    "    # load the image and convert it to grayscale\n",
    "    im1 = cv2.imread(im1_path)\n",
    "    im2 = cv2.imread(im2_path)\n",
    "    gray1 = cv2.cvtColor(im1, cv2.COLOR_BGR2GRAY)\n",
    "    gray2 = cv2.cvtColor(im2, cv2.COLOR_BGR2GRAY)    \n",
    "\n",
    "    # initialize the AKAZE descriptor, then detect keypoints and extract\n",
    "    # local invariant descriptors from the image\n",
    "    detector = cv2.AKAZE_create()\n",
    "    (kps1, descs1) = detector.detectAndCompute(gray1, None)\n",
    "    (kps2, descs2) = detector.detectAndCompute(gray2, None)\n",
    "\n",
    "    print(\"keypoints: {}, descriptors: {}\".format(len(kps1), descs1.shape))\n",
    "    print(\"keypoints: {}, descriptors: {}\".format(len(kps2), descs2.shape))    \n",
    "\n",
    "    # Match the features\n",
    "    bf = cv2.BFMatcher(cv2.NORM_HAMMING)\n",
    "    matches = bf.knnMatch(descs1,descs2, k=2)    # typo fixed\n",
    "\n",
    "    # Apply ratio test\n",
    "    good = []\n",
    "    for m,n in matches:\n",
    "        if m.distance < 0.9*n.distance:\n",
    "            good.append([m])\n",
    "\n",
    "    # cv2.drawMatchesKnn expects list of lists as matches.\n",
    "    im3 = cv2.drawMatchesKnn(im1, kps1, im2, kps2, good[1:200], None, flags=2)\n",
    "    cv2.imshow(\"AKAZE matching\", im3)\n",
    "    cv2.waitKey(0) \n",
    "\n",
    "    "
   ]
  },
  {
   "cell_type": "code",
   "execution_count": null,
   "metadata": {},
   "outputs": [],
   "source": [
    "kaze_match('home.jpg', 'home3.jpg')\n"
   ]
  },
  {
   "cell_type": "code",
   "execution_count": null,
   "metadata": {},
   "outputs": [],
   "source": []
  },
  {
   "cell_type": "code",
   "execution_count": null,
   "metadata": {},
   "outputs": [],
   "source": []
  }
 ],
 "metadata": {
  "kernelspec": {
   "display_name": "Python 3",
   "language": "python",
   "name": "python3"
  },
  "language_info": {
   "codemirror_mode": {
    "name": "ipython",
    "version": 3
   },
   "file_extension": ".py",
   "mimetype": "text/x-python",
   "name": "python",
   "nbconvert_exporter": "python",
   "pygments_lexer": "ipython3",
   "version": "3.7.1"
  }
 },
 "nbformat": 4,
 "nbformat_minor": 2
}
